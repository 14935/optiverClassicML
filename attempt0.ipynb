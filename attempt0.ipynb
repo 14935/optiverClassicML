{
 "cells": [
  {
   "cell_type": "code",
   "execution_count": 1,
   "id": "c58ff0d3",
   "metadata": {
    "execution": {
     "iopub.execute_input": "2023-10-19T12:55:55.658398Z",
     "iopub.status.busy": "2023-10-19T12:55:55.657387Z",
     "iopub.status.idle": "2023-10-19T12:55:56.138662Z",
     "shell.execute_reply": "2023-10-19T12:55:56.136988Z"
    },
    "papermill": {
     "duration": 0.489957,
     "end_time": "2023-10-19T12:55:56.141950",
     "exception": false,
     "start_time": "2023-10-19T12:55:55.651993",
     "status": "completed"
    },
    "tags": []
   },
   "outputs": [],
   "source": [
    "import pandas as pd \n",
    "def generate_features(df):\n",
    "    features = ['seconds_in_bucket', 'imbalance_buy_sell_flag',\n",
    "               'imbalance_size', 'matched_size', 'bid_size', 'ask_size',\n",
    "                'reference_price','far_price', 'near_price', 'ask_price', 'bid_price', 'wap',\n",
    "                'imb_s1', 'imb_s2'\n",
    "               ]\n",
    "    \n",
    "    df['imb_s1'] = df.eval('(bid_size-ask_size)/(bid_size+ask_size)')\n",
    "    df['imb_s2'] = df.eval('(imbalance_size-matched_size)/(matched_size+imbalance_size)')\n",
    "    \n",
    "    prices = ['reference_price','far_price', 'near_price', 'ask_price', 'bid_price', 'wap']\n",
    "    \n",
    "    for i,a in enumerate(prices):\n",
    "        for j,b in enumerate(prices):\n",
    "            if i>j:\n",
    "                df[f'{a}_{b}_imb'] = df.eval(f'({a}-{b})/({a}+{b})')\n",
    "                features.append(f'{a}_{b}_imb')    \n",
    "                    \n",
    "    for i,a in enumerate(prices):\n",
    "        for j,b in enumerate(prices):\n",
    "            for k,c in enumerate(prices):\n",
    "                if i>j and j>k:\n",
    "                    max_ = df[[a,b,c]].max(axis=1)\n",
    "                    min_ = df[[a,b,c]].min(axis=1)\n",
    "                    mid_ = df[[a,b,c]].sum(axis=1)-min_-max_\n",
    "\n",
    "                    df[f'{a}_{b}_{c}_imb2'] = (max_-mid_)/(mid_-min_)\n",
    "                    features.append(f'{a}_{b}_{c}_imb2')\n",
    "    df = df.replace(float('inf'),10.0**8)\n",
    "    df = df.replace(-float('inf'),-10.0**8)\n",
    "    df = df.fillna(0)\n",
    "    return df[features]\n",
    "\n",
    "TRAINING = False\n",
    "if TRAINING:\n",
    "    df_train = pd.read_csv('/kaggle/input/optiver-trading-at-the-close/train.csv')\n",
    "    df_ = generate_features(df_train)"
   ]
  },
  {
   "cell_type": "code",
   "execution_count": 2,
   "id": "9c59c195",
   "metadata": {
    "execution": {
     "iopub.execute_input": "2023-10-19T12:55:56.154393Z",
     "iopub.status.busy": "2023-10-19T12:55:56.153673Z",
     "iopub.status.idle": "2023-10-19T12:55:56.163693Z",
     "shell.execute_reply": "2023-10-19T12:55:56.162034Z"
    },
    "papermill": {
     "duration": 0.021412,
     "end_time": "2023-10-19T12:55:56.167159",
     "exception": false,
     "start_time": "2023-10-19T12:55:56.145747",
     "status": "completed"
    },
    "tags": []
   },
   "outputs": [],
   "source": [
    "LGBparams = {#\"device\" : \"gpu\",\n",
    "                        'objective'         : 'regression_l1',\n",
    "                        'boosting_type'     : 'gbdt',\n",
    "                        'random_state'      : 42,\n",
    "                        'colsample_bytree'  : 0.7,\n",
    "                        'subsample'         : 0.65,\n",
    "                        'learning_rate'     : 0.065,\n",
    "                        'max_depth'         : 6,\n",
    "                        'n_estimators'      : 500,\n",
    "                        'num_leaves'        : 150,  \n",
    "                        'reg_alpha'         : 0.01,\n",
    "                        'reg_lambda'        : 3.25,\n",
    "                        'verbose'           : -1,}\n",
    "XGBparams = {#'tree_method':\"hist\", 'device':\"cuda\",\n",
    "                      'objective'          : 'reg:absoluteerror',\n",
    "                      'random_state'       : 42,\n",
    "                      'colsample_bytree'   : 0.7,\n",
    "                      'learning_rate'      : 0.07,\n",
    "                      'max_depth'          : 6,\n",
    "                      'n_estimators'       : 500,                         \n",
    "                      'reg_alpha'          : 0.025,\n",
    "                      'reg_lambda'         : 1.75,\n",
    "                      'min_child_weight'   : 1000,\n",
    "                      'early_stopping_rounds' : 100}\n",
    "CGBparams = {#'task_type': 'GPU',\n",
    "                   'objective'           : \"MAE\",\n",
    "                   'eval_metric'         : \"MAE\",\n",
    "                   'bagging_temperature' : 0.5,\n",
    "                   'colsample_bylevel'   : 0.7,\n",
    "                   'iterations'          :500,\n",
    "                   'learning_rate'       : 0.065,\n",
    "                   'od_wait'             : 25,\n",
    "                   'max_depth'           : 7,\n",
    "                   'l2_leaf_reg'         : 1.5,\n",
    "                   'min_data_in_leaf'    : 1000,\n",
    "                   'random_strength'     : 0.65, \n",
    "                   'use_best_model'      : True,\n",
    "                  }"
   ]
  },
  {
   "cell_type": "code",
   "execution_count": null,
   "id": "5cec82cc",
   "metadata": {
    "papermill": {
     "duration": 0.00388,
     "end_time": "2023-10-19T12:55:56.174529",
     "exception": false,
     "start_time": "2023-10-19T12:55:56.170649",
     "status": "completed"
    },
    "tags": []
   },
   "outputs": [],
   "source": []
  },
  {
   "cell_type": "code",
   "execution_count": 3,
   "id": "8050d9fb",
   "metadata": {
    "execution": {
     "iopub.execute_input": "2023-10-19T12:55:56.182219Z",
     "iopub.status.busy": "2023-10-19T12:55:56.181779Z",
     "iopub.status.idle": "2023-10-19T12:56:07.394209Z",
     "shell.execute_reply": "2023-10-19T12:56:07.391952Z"
    },
    "papermill": {
     "duration": 11.220217,
     "end_time": "2023-10-19T12:56:07.397635",
     "exception": false,
     "start_time": "2023-10-19T12:55:56.177418",
     "status": "completed"
    },
    "tags": []
   },
   "outputs": [],
   "source": [
    "import lightgbm as lgb \n",
    "import xgboost as xgb \n",
    "import catboost as cbt \n",
    "import numpy as np \n",
    "import joblib \n",
    "import os \n",
    "\n",
    "os.system('mkdir models')\n",
    "\n",
    "model_path ='/kaggle/input/trainedmodels'\n",
    "\n",
    "N_fold = 6\n",
    "\n",
    "if TRAINING:\n",
    "    X = df_.values\n",
    "    Y = df_train['target'].values\n",
    "\n",
    "    X = X[np.isfinite(Y)]\n",
    "    Y = Y[np.isfinite(Y)]\n",
    "\n",
    "    index = np.arange(len(X))\n",
    "\n",
    "models = []\n",
    "\n",
    "def train(model_dict, modelname='lgb'):\n",
    "    if TRAINING:\n",
    "        model = model_dict[modelname]\n",
    "        model.fit(X[index%N_fold!=i], Y[index%N_fold!=i], \n",
    "                    eval_set=[(X[index%N_fold==i], Y[index%N_fold==i])], \n",
    "                    verbose=10, \n",
    "                    )\n",
    "        models.append(model)\n",
    "        joblib.dump(model, f'./models/{modelname}_{i}.model')\n",
    "    else:\n",
    "        if modelname == 'lgb':\n",
    "            k = i * 3\n",
    "        elif modelname == 'xgb':\n",
    "            k = i * 3 + 1\n",
    "        else:\n",
    "            k = i * 3 + 2\n",
    "        models.append(joblib.load(f'{model_path}/{k}.model'))\n",
    "    return \n",
    "\n",
    "model_dict = {\n",
    "    'lgb': lgb.LGBMRegressor(**LGBparams),\n",
    "    'xgb': xgb.XGBRegressor(**XGBparams),\n",
    "    'cbt': cbt.CatBoostRegressor(**CGBparams),\n",
    "\n",
    "}\n",
    "\n",
    "for i in range(N_fold):\n",
    "    train(model_dict, 'lgb')\n",
    "    train(model_dict, 'xgb')\n",
    "    train(model_dict, 'cbt')\n"
   ]
  },
  {
   "cell_type": "code",
   "execution_count": 4,
   "id": "2e0eabb1",
   "metadata": {
    "execution": {
     "iopub.execute_input": "2023-10-19T12:56:07.405624Z",
     "iopub.status.busy": "2023-10-19T12:56:07.405096Z",
     "iopub.status.idle": "2023-10-19T12:56:07.417555Z",
     "shell.execute_reply": "2023-10-19T12:56:07.416123Z"
    },
    "papermill": {
     "duration": 0.019748,
     "end_time": "2023-10-19T12:56:07.420329",
     "exception": false,
     "start_time": "2023-10-19T12:56:07.400581",
     "status": "completed"
    },
    "tags": []
   },
   "outputs": [
    {
     "data": {
      "text/plain": [
       "\"i = 0\\nos.system('mkdir models2')\\nfor model in models:\\n    joblib.dump(model, f'./models2/{i}.model')\\n    i += 1\\n\""
      ]
     },
     "execution_count": 4,
     "metadata": {},
     "output_type": "execute_result"
    }
   ],
   "source": [
    "\"\"\"i = 0\n",
    "os.system('mkdir models2')\n",
    "for model in models:\n",
    "    joblib.dump(model, f'./models2/{i}.model')\n",
    "    i += 1\n",
    "\"\"\""
   ]
  },
  {
   "cell_type": "code",
   "execution_count": 5,
   "id": "428a49ad",
   "metadata": {
    "execution": {
     "iopub.execute_input": "2023-10-19T12:56:07.429839Z",
     "iopub.status.busy": "2023-10-19T12:56:07.429330Z",
     "iopub.status.idle": "2023-10-19T12:56:07.465756Z",
     "shell.execute_reply": "2023-10-19T12:56:07.464450Z"
    },
    "papermill": {
     "duration": 0.046123,
     "end_time": "2023-10-19T12:56:07.469933",
     "exception": false,
     "start_time": "2023-10-19T12:56:07.423810",
     "status": "completed"
    },
    "tags": []
   },
   "outputs": [],
   "source": [
    "import optiver2023\n",
    "env = optiver2023.make_env()\n",
    "iter_test = env.iter_test()"
   ]
  },
  {
   "cell_type": "code",
   "execution_count": 6,
   "id": "d7d7fa5a",
   "metadata": {
    "execution": {
     "iopub.execute_input": "2023-10-19T12:56:07.479686Z",
     "iopub.status.busy": "2023-10-19T12:56:07.478176Z",
     "iopub.status.idle": "2023-10-19T12:56:48.728219Z",
     "shell.execute_reply": "2023-10-19T12:56:48.727079Z"
    },
    "papermill": {
     "duration": 41.257858,
     "end_time": "2023-10-19T12:56:48.730960",
     "exception": false,
     "start_time": "2023-10-19T12:56:07.473102",
     "status": "completed"
    },
    "tags": []
   },
   "outputs": [
    {
     "name": "stdout",
     "output_type": "stream",
     "text": [
      "This version of the API is not optimized and should not be used to estimate the runtime of your code on the hidden test set.\n"
     ]
    }
   ],
   "source": [
    "counter = 0\n",
    "for (test, revealed_targets, sample_prediction) in iter_test:\n",
    "    feat = generate_features(test)\n",
    "    \n",
    "    sample_prediction['target'] = np.mean([model.predict(feat) for model in models],0)\n",
    "    env.predict(sample_prediction)\n",
    "    counter += 1"
   ]
  }
 ],
 "metadata": {
  "kernelspec": {
   "display_name": "Python 3",
   "language": "python",
   "name": "python3"
  },
  "language_info": {
   "codemirror_mode": {
    "name": "ipython",
    "version": 3
   },
   "file_extension": ".py",
   "mimetype": "text/x-python",
   "name": "python",
   "nbconvert_exporter": "python",
   "pygments_lexer": "ipython3",
   "version": "3.10.12"
  },
  "papermill": {
   "default_parameters": {},
   "duration": 58.604365,
   "end_time": "2023-10-19T12:56:49.961825",
   "environment_variables": {},
   "exception": null,
   "input_path": "__notebook__.ipynb",
   "output_path": "__notebook__.ipynb",
   "parameters": {},
   "start_time": "2023-10-19T12:55:51.357460",
   "version": "2.4.0"
  }
 },
 "nbformat": 4,
 "nbformat_minor": 5
}
